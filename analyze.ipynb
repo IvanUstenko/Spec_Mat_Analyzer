{
 "cells": [
  {
   "cell_type": "code",
   "execution_count": 1,
   "metadata": {},
   "outputs": [],
   "source": [
    "import pandas as pd\n",
    "import numpy as np\n",
    "from analyzer import rating_points\n",
    "import math\n",
    "\n",
    "df = pd.read_csv(\"problems.csv\", delimiter=\";\")"
   ]
  },
  {
   "cell_type": "code",
   "execution_count": 5,
   "metadata": {},
   "outputs": [
    {
     "data": {
      "text/plain": [
       "Полина А.       42.197111\n",
       "Андрей Б.       29.920205\n",
       "Дмитрий Б.      37.330258\n",
       "Максим Д.       37.788018\n",
       "Марк З.         14.158264\n",
       "Ульяна И.       26.690541\n",
       "Мариам М.       30.484662\n",
       "Дэвид О.        39.156764\n",
       "Иван П.         36.657285\n",
       "Екатерина П.    37.314797\n",
       "Валерия С.      30.100622\n",
       "Ксения Х.       59.519020\n",
       "dtype: float64"
      ]
     },
     "execution_count": 5,
     "metadata": {},
     "output_type": "execute_result"
    }
   ],
   "source": [
    "df1 = df.replace([2,3,4,5,6,7,8], 1)\n",
    "df1 = df1.drop(columns=['Тема', 'Подтема', 'Процент порядка', 'Процент номера'])\n",
    "ratings = rating_points(df1.astype(float))\n",
    "ratings"
   ]
  }
 ],
 "metadata": {
  "kernelspec": {
   "display_name": "Python 3",
   "language": "python",
   "name": "python3"
  },
  "language_info": {
   "codemirror_mode": {
    "name": "ipython",
    "version": 3
   },
   "file_extension": ".py",
   "mimetype": "text/x-python",
   "name": "python",
   "nbconvert_exporter": "python",
   "pygments_lexer": "ipython3",
   "version": "3.11.9"
  }
 },
 "nbformat": 4,
 "nbformat_minor": 2
}
