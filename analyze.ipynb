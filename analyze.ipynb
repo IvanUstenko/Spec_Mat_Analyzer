{
 "cells": [
  {
   "cell_type": "code",
   "execution_count": 1,
   "metadata": {},
   "outputs": [],
   "source": [
    "import pandas as pd\n",
    "import numpy as np\n",
    "import analyzer as an\n",
    "import math\n",
    "\n",
    "df = pd.read_csv(\"problems.csv\", delimiter=\";\")"
   ]
  },
  {
   "cell_type": "code",
   "execution_count": 2,
   "metadata": {},
   "outputs": [],
   "source": [
    "df1 = df.replace([2,3,4,5,6,7,8], 1)\n",
    "df1 = df1.drop(columns=['Тема', 'Подтема', 'Процент порядка', 'Процент номера'])"
   ]
  },
  {
   "cell_type": "code",
   "execution_count": 3,
   "metadata": {},
   "outputs": [
    {
     "data": {
      "text/plain": [
       "Ксения Х.       178\n",
       "Дмитрий Б.      144\n",
       "Полина А.       137\n",
       "Дэвид О.        135\n",
       "Иван П.         134\n",
       "Екатерина П.    127\n",
       "Максим Д.       125\n",
       "Мариам М.       112\n",
       "Андрей Б.       110\n",
       "Ульяна И.        98\n",
       "Валерия С.       97\n",
       "Марк З.          60\n",
       "dtype: int64"
      ]
     },
     "execution_count": 3,
     "metadata": {},
     "output_type": "execute_result"
    }
   ],
   "source": [
    "total = an.total_problems(df1)\n",
    "total.sort_values(ascending=False)"
   ]
  },
  {
   "cell_type": "code",
   "execution_count": null,
   "metadata": {},
   "outputs": [
    {
     "data": {
      "text/plain": [
       "Ксения Х.       12.669737\n",
       "Дмитрий Б.       9.669737\n",
       "Дэвид О.         9.092386\n",
       "Иван П.          8.145173\n",
       "Полина А.        7.360869\n",
       "Валерия С.       7.291619\n",
       "Андрей Б.        6.978506\n",
       "Екатерина П.     6.950981\n",
       "Ульяна И.        6.933875\n",
       "Максим Д.        6.867500\n",
       "Мариам М.        6.600542\n",
       "Марк З.          4.646355\n",
       "dtype: float64"
      ]
     },
     "execution_count": 4,
     "metadata": {},
     "output_type": "execute_result"
    }
   ],
   "source": [
    "points = an.competative_points(df, topic='Комбинаторика', subtopic=\"Правило умножения\", weight_func=\"sqrt\")\n",
    "points.sort_values(ascending=False)"
   ]
  },
  {
   "cell_type": "code",
   "execution_count": 5,
   "metadata": {},
   "outputs": [
    {
     "data": {
      "text/plain": [
       "Ксения Х.       1455.0\n",
       "Дмитрий Б.      1342.0\n",
       "Иван П.         1325.0\n",
       "Дэвид О.        1324.0\n",
       "Полина А.       1298.0\n",
       "Екатерина П.    1273.0\n",
       "Максим Д.       1218.0\n",
       "Мариам М.       1174.0\n",
       "Андрей Б.       1129.0\n",
       "Ульяна И.       1053.0\n",
       "Валерия С.      1028.0\n",
       "Марк З.          666.0\n",
       "dtype: float64"
      ]
     },
     "execution_count": 5,
     "metadata": {},
     "output_type": "execute_result"
    }
   ],
   "source": [
    "points = an.work_points(df1.astype(float), \"linear\")\n",
    "points.sort_values(ascending=False)"
   ]
  }
 ],
 "metadata": {
  "kernelspec": {
   "display_name": "Python 3",
   "language": "python",
   "name": "python3"
  },
  "language_info": {
   "codemirror_mode": {
    "name": "ipython",
    "version": 3
   },
   "file_extension": ".py",
   "mimetype": "text/x-python",
   "name": "python",
   "nbconvert_exporter": "python",
   "pygments_lexer": "ipython3",
   "version": "3.11.9"
  }
 },
 "nbformat": 4,
 "nbformat_minor": 2
}
